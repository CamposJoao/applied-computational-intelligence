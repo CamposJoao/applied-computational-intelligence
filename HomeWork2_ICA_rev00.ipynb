{
  "nbformat": 4,
  "nbformat_minor": 0,
  "metadata": {
    "colab": {
      "name": "HomeWork2_ICA_rev00.ipynb",
      "provenance": [],
      "include_colab_link": true
    },
    "kernelspec": {
      "name": "python3",
      "display_name": "Python 3"
    },
    "language_info": {
      "name": "python"
    }
  },
  "cells": [
    {
      "cell_type": "markdown",
      "metadata": {
        "id": "view-in-github",
        "colab_type": "text"
      },
      "source": [
        "<a href=\"https://colab.research.google.com/github/CamposJoao/applied-computational-intelligence/blob/main/HomeWork2_ICA_rev00.ipynb\" target=\"_parent\"><img src=\"https://colab.research.google.com/assets/colab-badge.svg\" alt=\"Open In Colab\"/></a>"
      ]
    },
    {
      "cell_type": "markdown",
      "metadata": {
        "id": "ZlBlPpIHuJ1q"
      },
      "source": [
        "# HW2 - Modelos de Regressão para Horas de Treinamento para Candidatos a Mudança de Emprego\n",
        "\n",
        "Thaís C. Sampaio, João Pedro Campos\n",
        "\n",
        "Departamento de Engenharia de Teleinformática\n",
        "\n",
        "Universidade Federal do Ceará, Fortaleza, Brasil\n",
        "\n",
        "Emails: {thaisc, joaopedroscampos\\}@alu.ufc.br}"
      ]
    },
    {
      "cell_type": "markdown",
      "metadata": {
        "id": "YWpp8FUIuas5"
      },
      "source": [
        "## Objetivo\n",
        "\n",
        "Objetivo é o estudo e implementação de modelos de regressão para horas de treinamento utilizando o dataset do kaggle chamado HR Analytics: Job Change of Data Scientists"
      ]
    },
    {
      "cell_type": "markdown",
      "metadata": {
        "id": "C8DVSqSvu93A"
      },
      "source": [
        "## Ambiente para trabalho"
      ]
    },
    {
      "cell_type": "code",
      "metadata": {
        "id": "fR6EiYjht9Lt"
      },
      "source": [
        "import numpy as np\n",
        "import pandas as pd\n",
        "import matplotlib.pyplot as plt\n",
        "import seaborn as sns\n",
        "from sklearn import preprocessing, linear_model\n",
        "from sklearn.decomposition import PCA\n",
        "from sklearn.cross_decomposition import PLSRegression\n",
        "from matplotlib.colors import ListedColormap\n",
        "from sklearn.model_selection import train_test_split, cross_val_score\n",
        "from sklearn.linear_model import LinearRegression\n",
        "from sklearn.metrics import r2_score, mean_squared_error\n",
        "from scipy.stats import yeojohnson"
      ],
      "execution_count": null,
      "outputs": []
    },
    {
      "cell_type": "markdown",
      "metadata": {
        "id": "v9waptVfvOEx"
      },
      "source": [
        "###Montagem do Drive para acessar o dataset"
      ]
    },
    {
      "cell_type": "code",
      "metadata": {
        "id": "iWcCG5aHu7nh",
        "colab": {
          "base_uri": "https://localhost:8080/"
        },
        "outputId": "1e578dc0-3555-4e05-c204-997623aa8a46"
      },
      "source": [
        "from google.colab import drive\n",
        "drive.mount('/content/drive')"
      ],
      "execution_count": null,
      "outputs": [
        {
          "output_type": "stream",
          "text": [
            "Mounted at /content/drive\n"
          ],
          "name": "stdout"
        }
      ]
    },
    {
      "cell_type": "markdown",
      "metadata": {
        "id": "0d8KELJev9Up"
      },
      "source": [
        "### Acesso ao banco de dados de treino e de teste "
      ]
    },
    {
      "cell_type": "code",
      "metadata": {
        "id": "CO1-LwUGvzGw",
        "colab": {
          "base_uri": "https://localhost:8080/"
        },
        "outputId": "06fad674-11d6-4912-f57e-82dfc71f554f"
      },
      "source": [
        "pd.read_csv('/content/drive/MyDrive/ICA/aug_train.csv').shape"
      ],
      "execution_count": null,
      "outputs": [
        {
          "output_type": "execute_result",
          "data": {
            "text/plain": [
              "(19158, 14)"
            ]
          },
          "metadata": {
            "tags": []
          },
          "execution_count": 3
        }
      ]
    },
    {
      "cell_type": "code",
      "metadata": {
        "id": "MQFqzgyCy20C",
        "colab": {
          "base_uri": "https://localhost:8080/"
        },
        "outputId": "2b1f66ab-1d7b-4212-ed3e-92d0b66f2769"
      },
      "source": [
        "pd.read_csv('/content/drive/MyDrive/ICA/aug_test.csv').shape"
      ],
      "execution_count": null,
      "outputs": [
        {
          "output_type": "execute_result",
          "data": {
            "text/plain": [
              "(2129, 13)"
            ]
          },
          "metadata": {
            "tags": []
          },
          "execution_count": 4
        }
      ]
    },
    {
      "cell_type": "markdown",
      "metadata": {
        "id": "y2HuGD_Ayk9a"
      },
      "source": [
        "### Unificação dos dados"
      ]
    },
    {
      "cell_type": "code",
      "metadata": {
        "id": "vm3mKMA9v7-B",
        "colab": {
          "base_uri": "https://localhost:8080/"
        },
        "outputId": "ff52398f-34ae-452e-e8a5-30c0f12f793e"
      },
      "source": [
        "df = pd.concat([pd.read_csv('/content/drive/MyDrive/ICA/aug_test.csv'), pd.read_csv('/content/drive/MyDrive/ICA/aug_train.csv')])\n",
        "df.shape"
      ],
      "execution_count": null,
      "outputs": [
        {
          "output_type": "execute_result",
          "data": {
            "text/plain": [
              "(21287, 14)"
            ]
          },
          "metadata": {
            "tags": []
          },
          "execution_count": 5
        }
      ]
    },
    {
      "cell_type": "code",
      "metadata": {
        "id": "AB6toIkvzylS",
        "colab": {
          "base_uri": "https://localhost:8080/"
        },
        "outputId": "7bbdc874-7b77-4c80-ce7c-b2bd137ba042"
      },
      "source": [
        "data = df.drop(columns=['gender','target'])\n",
        "data.info()"
      ],
      "execution_count": null,
      "outputs": [
        {
          "output_type": "stream",
          "text": [
            "<class 'pandas.core.frame.DataFrame'>\n",
            "Int64Index: 21287 entries, 0 to 19157\n",
            "Data columns (total 12 columns):\n",
            " #   Column                  Non-Null Count  Dtype  \n",
            "---  ------                  --------------  -----  \n",
            " 0   enrollee_id             21287 non-null  int64  \n",
            " 1   city                    21287 non-null  object \n",
            " 2   city_development_index  21287 non-null  float64\n",
            " 3   relevent_experience     21287 non-null  object \n",
            " 4   enrolled_university     20870 non-null  object \n",
            " 5   education_level         20775 non-null  object \n",
            " 6   major_discipline        18162 non-null  object \n",
            " 7   experience              21217 non-null  object \n",
            " 8   company_size            14727 non-null  object \n",
            " 9   company_type            14513 non-null  object \n",
            " 10  last_new_job            20824 non-null  object \n",
            " 11  training_hours          21287 non-null  int64  \n",
            "dtypes: float64(1), int64(2), object(9)\n",
            "memory usage: 2.1+ MB\n"
          ],
          "name": "stdout"
        }
      ]
    },
    {
      "cell_type": "markdown",
      "metadata": {
        "id": "PEx3hqD60_hj"
      },
      "source": [
        "### Substituição dos dados categóricos por escala numérica (variáveis do tipo string para tipo float)"
      ]
    },
    {
      "cell_type": "code",
      "metadata": {
        "id": "OiztqgMc1EoS"
      },
      "source": [
        "data['relevent_experience'].replace({'No relevent experience': 0}, inplace=True)\n",
        "data['relevent_experience'].replace({'Has relevent experience': 1}, inplace=True)"
      ],
      "execution_count": null,
      "outputs": []
    },
    {
      "cell_type": "code",
      "metadata": {
        "id": "vOjtQOZl1NDq"
      },
      "source": [
        "data['enrolled_university'].replace({'no_enrollment': 0}, inplace=True)\n",
        "data['enrolled_university'].replace({'Part time course': 1}, inplace=True)\n",
        "data['enrolled_university'].replace({'Full time course': 2}, inplace=True)"
      ],
      "execution_count": null,
      "outputs": []
    },
    {
      "cell_type": "code",
      "metadata": {
        "id": "fXbBeNYA1T8a"
      },
      "source": [
        "data['last_new_job'].replace({'never': 0}, inplace=True)\n",
        "data['last_new_job'].replace({'1': 1}, inplace=True)\n",
        "data['last_new_job'].replace({'2': 2}, inplace=True)\n",
        "data['last_new_job'].replace({'3': 3}, inplace=True)\n",
        "data['last_new_job'].replace({'4': 4}, inplace=True)\n",
        "data['last_new_job'].replace({'>4': 5}, inplace=True)"
      ],
      "execution_count": null,
      "outputs": []
    },
    {
      "cell_type": "code",
      "metadata": {
        "id": "Z6UuJhBH2ESz"
      },
      "source": [
        "data['education_level'].replace({'Primary School': 0}, inplace=True)\n",
        "data['education_level'].replace({'High School': 1}, inplace=True)\n",
        "data['education_level'].replace({'Graduate': 2}, inplace=True)\n",
        "data['education_level'].replace({'Masters': 3}, inplace=True)\n",
        "data['education_level'].replace({'Phd': 4}, inplace=True)"
      ],
      "execution_count": null,
      "outputs": []
    },
    {
      "cell_type": "code",
      "metadata": {
        "id": "uJYtdQL62HZy"
      },
      "source": [
        "data['company_type'].fillna('Unknown',inplace=True)\n",
        "data['company_type'].replace({'Unknown': 0}, inplace=True)\n",
        "data['company_type'].replace({'Other': 1}, inplace=True)\n",
        "data['company_type'].replace({'Pvt Ltd': 2}, inplace=True)\n",
        "data['company_type'].replace({'Early Stage Startup': 3}, inplace=True)\n",
        "data['company_type'].replace({'Funded Startup': 4}, inplace=True)\n",
        "data['company_type'].replace({'Public Sector': 5}, inplace=True)\n",
        "data['company_type'].replace({'NGO': 6}, inplace=True)"
      ],
      "execution_count": null,
      "outputs": []
    },
    {
      "cell_type": "code",
      "metadata": {
        "id": "EOdD_znf2LtD"
      },
      "source": [
        "data['company_size'].fillna('Unknown',inplace=True)\n",
        "data['company_size'].replace({'Unknown': 0}, inplace=True)\n",
        "data['company_size'].replace({'<10': 1}, inplace=True)\n",
        "data['company_size'].replace({'10/49': 2}, inplace=True)\n",
        "data['company_size'].replace({'50-99': 3}, inplace=True)\n",
        "data['company_size'].replace({'100-500': 4}, inplace=True)\n",
        "data['company_size'].replace({'500-999': 5}, inplace=True)\n",
        "data['company_size'].replace({'1000-4999': 6}, inplace=True)\n",
        "data['company_size'].replace({'5000-9999': 7}, inplace=True)\n",
        "data['company_size'].replace({'10000+': 8}, inplace=True)"
      ],
      "execution_count": null,
      "outputs": []
    },
    {
      "cell_type": "code",
      "metadata": {
        "id": "kIRenThl2Mgh"
      },
      "source": [
        "data['major_discipline'].fillna('Unknown',inplace=True)\n",
        "data['major_discipline'].replace({'Unknown': 0}, inplace=True)\n",
        "data['major_discipline'].replace({'No Major': 1}, inplace=True)\n",
        "data['major_discipline'].replace({'Arts': 2}, inplace=True)\n",
        "data['major_discipline'].replace({'Humanities': 3}, inplace=True)\n",
        "data['major_discipline'].replace({'Business Degree': 4}, inplace=True)\n",
        "data['major_discipline'].replace({'STEM': 5}, inplace=True)\n",
        "data['major_discipline'].replace({'Other': 6}, inplace=True)"
      ],
      "execution_count": null,
      "outputs": []
    },
    {
      "cell_type": "code",
      "metadata": {
        "id": "Yr5_Ncle2QlB"
      },
      "source": [
        "data['experience'].replace({'<1': 0}, inplace=True)\n",
        "data['experience'].replace({'1': 1}, inplace=True)\n",
        "data['experience'].replace({'2': 2}, inplace=True)\n",
        "data['experience'].replace({'3': 3}, inplace=True)\n",
        "data['experience'].replace({'4': 4}, inplace=True)\n",
        "data['experience'].replace({'5': 5}, inplace=True)\n",
        "data['experience'].replace({'6': 6}, inplace=True)\n",
        "data['experience'].replace({'7': 7}, inplace=True)\n",
        "data['experience'].replace({'8': 8}, inplace=True)\n",
        "data['experience'].replace({'9': 9}, inplace=True)\n",
        "data['experience'].replace({'10': 10}, inplace=True)\n",
        "data['experience'].replace({'11': 11}, inplace=True)\n",
        "data['experience'].replace({'12': 12}, inplace=True)\n",
        "data['experience'].replace({'13': 13}, inplace=True)\n",
        "data['experience'].replace({'14': 14}, inplace=True)\n",
        "data['experience'].replace({'15': 15}, inplace=True)\n",
        "data['experience'].replace({'16': 16}, inplace=True)\n",
        "data['experience'].replace({'17': 17}, inplace=True)\n",
        "data['experience'].replace({'18': 18}, inplace=True)\n",
        "data['experience'].replace({'19': 19}, inplace=True)\n",
        "data['experience'].replace({'20': 20}, inplace=True)\n",
        "data['experience'].replace({'>20': 21}, inplace=True)"
      ],
      "execution_count": null,
      "outputs": []
    },
    {
      "cell_type": "code",
      "metadata": {
        "id": "FaP1OXpK2Vri"
      },
      "source": [
        "# Codificando o preditor (entrada) city utilizando a biblioteca label encoder\n",
        "le = preprocessing.LabelEncoder()\n",
        "data['city'] = le.fit_transform(data['city'])"
      ],
      "execution_count": null,
      "outputs": []
    },
    {
      "cell_type": "markdown",
      "metadata": {
        "id": "ShVg_qqqKSK6"
      },
      "source": [
        "### Eliminando os elementos faltantes"
      ]
    },
    {
      "cell_type": "code",
      "metadata": {
        "colab": {
          "base_uri": "https://localhost:8080/"
        },
        "id": "6jdljDqrKgrB",
        "outputId": "d3f8efc3-d29a-440e-b91b-accab16c4660"
      },
      "source": [
        "# Excluindo as observações N com dados faltantes e salvando os dados em uma nova variável:\n",
        "dataframe = data.dropna()\n",
        "dataframe.info()"
      ],
      "execution_count": null,
      "outputs": [
        {
          "output_type": "stream",
          "text": [
            "<class 'pandas.core.frame.DataFrame'>\n",
            "Int64Index: 20032 entries, 0 to 19157\n",
            "Data columns (total 12 columns):\n",
            " #   Column                  Non-Null Count  Dtype  \n",
            "---  ------                  --------------  -----  \n",
            " 0   enrollee_id             20032 non-null  int64  \n",
            " 1   city                    20032 non-null  int64  \n",
            " 2   city_development_index  20032 non-null  float64\n",
            " 3   relevent_experience     20032 non-null  int64  \n",
            " 4   enrolled_university     20032 non-null  float64\n",
            " 5   education_level         20032 non-null  float64\n",
            " 6   major_discipline        20032 non-null  int64  \n",
            " 7   experience              20032 non-null  float64\n",
            " 8   company_size            20032 non-null  int64  \n",
            " 9   company_type            20032 non-null  int64  \n",
            " 10  last_new_job            20032 non-null  float64\n",
            " 11  training_hours          20032 non-null  int64  \n",
            "dtypes: float64(5), int64(7)\n",
            "memory usage: 2.0 MB\n"
          ],
          "name": "stdout"
        }
      ]
    },
    {
      "cell_type": "code",
      "metadata": {
        "colab": {
          "base_uri": "https://localhost:8080/"
        },
        "id": "EGYkH5dZ-YS5",
        "outputId": "eb26f5c4-bd32-4e81-ee23-f2e3189f27bf"
      },
      "source": [
        "plt.figure(figsize=(12,8))\n",
        "plt.title('Histograma das horas de treinamento')\n",
        "plt.hist(dataframe['training_hours'])\n",
        "plt.ylabel('Frequência')\n",
        "plt.xlabel('Horas de treinamento completas')\n",
        "plt.savefig('horastreinamento.pdf')"
      ],
      "execution_count": null,
      "outputs": [
        {
          "output_type": "display_data",
          "data": {
            "image/png": "[encoded data removed]",
            "text/plain": [
              "<Figure size 864x576 with 1 Axes>"
            ]
          },
          "metadata": {
            "tags": [],
            "needs_background": "light"
          }
        }
      ]
    },
    {
      "cell_type": "markdown",
      "metadata": {
        "id": "uyBVWYaHLTop"
      },
      "source": [
        "### Pré-processamento"
      ]
    },
    {
      "cell_type": "code",
      "metadata": {
        "colab": {
          "base_uri": "https://localhost:8080/"
        },
        "id": "8_Y5al5FLOHB",
        "outputId": "1fe5a038-6cb7-472a-bd79-95d88d57236e"
      },
      "source": [
        "# Computanto a média, o desvio padrão e a obliquidade (skewness) do conjunto de dados:\n",
        "unc_monovar = dataframe.describe().iloc[1:3,1:].append(dataframe.skew()[1:], ignore_index=True)\n",
        "unc_monovar.index = ['Média','Desvio padrão','Obliquidade']\n",
        "display(unc_monovar.T)"
      ],
      "execution_count": null,
      "outputs": [
        {
          "output_type": "display_data",
          "data": {
            "text/html": [
              "<div>\n",
              "<style scoped>\n",
              "    .dataframe tbody tr th:only-of-type {\n",
              "        vertical-align: middle;\n",
              "    }\n",
              "\n",
              "    .dataframe tbody tr th {\n",
              "        vertical-align: top;\n",
              "    }\n",
              "\n",
              "    .dataframe thead th {\n",
              "        text-align: right;\n",
              "    }\n",
              "</style>\n",
              "<table border=\"1\" class=\"dataframe\">\n",
              "  <thead>\n",
              "    <tr style=\"text-align: right;\">\n",
              "      <th></th>\n",
              "      <th>Média</th>\n",
              "      <th>Desvio padrão</th>\n",
              "      <th>Obliquidade</th>\n",
              "    </tr>\n",
              "  </thead>\n",
              "  <tbody>\n",
              "    <tr>\n",
              "      <th>city</th>\n",
              "      <td>43.967851</td>\n",
              "      <td>35.478183</td>\n",
              "      <td>0.407048</td>\n",
              "    </tr>\n",
              "    <tr>\n",
              "      <th>city_development_index</th>\n",
              "      <td>0.831290</td>\n",
              "      <td>0.122314</td>\n",
              "      <td>-1.037871</td>\n",
              "    </tr>\n",
              "    <tr>\n",
              "      <th>relevent_experience</th>\n",
              "      <td>0.731330</td>\n",
              "      <td>0.443279</td>\n",
              "      <td>-1.043825</td>\n",
              "    </tr>\n",
              "    <tr>\n",
              "      <th>enrolled_university</th>\n",
              "      <td>0.456270</td>\n",
              "      <td>0.799995</td>\n",
              "      <td>1.291069</td>\n",
              "    </tr>\n",
              "    <tr>\n",
              "      <th>education_level</th>\n",
              "      <td>2.141973</td>\n",
              "      <td>0.689908</td>\n",
              "      <td>-0.076953</td>\n",
              "    </tr>\n",
              "    <tr>\n",
              "      <th>major_discipline</th>\n",
              "      <td>4.226338</td>\n",
              "      <td>1.724523</td>\n",
              "      <td>-1.841350</td>\n",
              "    </tr>\n",
              "    <tr>\n",
              "      <th>experience</th>\n",
              "      <td>10.279353</td>\n",
              "      <td>6.769513</td>\n",
              "      <td>0.377661</td>\n",
              "    </tr>\n",
              "    <tr>\n",
              "      <th>company_size</th>\n",
              "      <td>3.011831</td>\n",
              "      <td>2.677144</td>\n",
              "      <td>0.476299</td>\n",
              "    </tr>\n",
              "    <tr>\n",
              "      <th>company_type</th>\n",
              "      <td>1.792682</td>\n",
              "      <td>1.524532</td>\n",
              "      <td>0.748344</td>\n",
              "    </tr>\n",
              "    <tr>\n",
              "      <th>last_new_job</th>\n",
              "      <td>2.027356</td>\n",
              "      <td>1.671263</td>\n",
              "      <td>0.786192</td>\n",
              "    </tr>\n",
              "    <tr>\n",
              "      <th>training_hours</th>\n",
              "      <td>65.299271</td>\n",
              "      <td>60.087097</td>\n",
              "      <td>1.827681</td>\n",
              "    </tr>\n",
              "  </tbody>\n",
              "</table>\n",
              "</div>"
            ],
            "text/plain": [
              "                            Média  Desvio padrão  Obliquidade\n",
              "city                    43.967851      35.478183     0.407048\n",
              "city_development_index   0.831290       0.122314    -1.037871\n",
              "relevent_experience      0.731330       0.443279    -1.043825\n",
              "enrolled_university      0.456270       0.799995     1.291069\n",
              "education_level          2.141973       0.689908    -0.076953\n",
              "major_discipline         4.226338       1.724523    -1.841350\n",
              "experience              10.279353       6.769513     0.377661\n",
              "company_size             3.011831       2.677144     0.476299\n",
              "company_type             1.792682       1.524532     0.748344\n",
              "last_new_job             2.027356       1.671263     0.786192\n",
              "training_hours          65.299271      60.087097     1.827681"
            ]
          },
          "metadata": {
            "tags": []
          }
        }
      ]
    },
    {
      "cell_type": "code",
      "metadata": {
        "colab": {
          "base_uri": "https://localhost:8080/"
        },
        "id": "GhwvjYilYdaB",
        "outputId": "06ef1729-b6a1-4154-f3cd-52a24ede873e"
      },
      "source": [
        "# Salvando os dados em uma nova variável para calculo da correlação entre pares de preditores e entre preditores e a saída:\n",
        "dftrainpredictors = dataframe.drop(columns=['enrollee_id'])\n",
        "# Calculo da matriz de correlação dos dados:\n",
        "data_pair_corr = dftrainpredictors.corr()\n",
        "# Visualização da matriz de correlação como mapa de calor:\n",
        "fig, ax = plt.subplots(figsize=(16,12))         # Tamanho da figura\n",
        "ax = sns.heatmap(data_pair_corr, annot=True, cmap='RdYlBu_r', vmin=-1, vmax=1)\n",
        "ax.set_title('Matriz de correlação como mapa de calor')\n",
        "plt.setp(ax.get_xticklabels(), rotation=45, ha=\"right\", rotation_mode=\"anchor\")\n",
        "plt.savefig('matriz_correlacao_pares.pdf')\n",
        "plt.show()"
      ],
      "execution_count": null,
      "outputs": [
        {
          "output_type": "display_data",
          "data": {
            "image/png": "[encoded data removed]",
            "text/plain": [
              "<Figure size 1152x864 with 2 Axes>"
            ]
          },
          "metadata": {
            "tags": [],
            "needs_background": "light"
          }
        }
      ]
    },
    {
      "cell_type": "markdown",
      "metadata": {
        "id": "tnvJHUSmxnj1"
      },
      "source": [
        "#### Divisão em entrada x e saída y"
      ]
    },
    {
      "cell_type": "markdown",
      "metadata": {
        "id": "cLA3Ra8OyrF8"
      },
      "source": [
        "Separando a variável dependente (saída) e as variáveis independentes (entradas)"
      ]
    },
    {
      "cell_type": "code",
      "metadata": {
        "id": "e6-ofQwHx6m7"
      },
      "source": [
        "# Escolhendo as variáveis independentes\n",
        "x = dataframe[['city', 'city_development_index', 'relevent_experience', 'enrolled_university', 'education_level', 'major_discipline', 'experience', 'company_size', 'company_type', 'last_new_job']]"
      ],
      "execution_count": null,
      "outputs": []
    },
    {
      "cell_type": "code",
      "metadata": {
        "id": "-i8dvWeXy1fk"
      },
      "source": [
        "# Variável dependente\n",
        "y = dataframe[['training_hours']]"
      ],
      "execution_count": null,
      "outputs": []
    },
    {
      "cell_type": "markdown",
      "metadata": {
        "id": "TnKJ9i9Gdh_t"
      },
      "source": [
        "#### Transformação dos dados"
      ]
    },
    {
      "cell_type": "code",
      "metadata": {
        "id": "bhUGLCnTdgil"
      },
      "source": [
        "def conserta_skewness(x):\n",
        "    # Conserta a obliquidade (assimetria) de um vetor de uma dimensão x usando a família de transformação Yeo-Johnson.\n",
        "    return yeojohnson(x)[0]\n",
        "\n",
        "# Consertando a assimetria dos dados:\n",
        "x_simetrico = x.apply(conserta_skewness)"
      ],
      "execution_count": null,
      "outputs": []
    },
    {
      "cell_type": "markdown",
      "metadata": {
        "id": "gm068AvHRNIx"
      },
      "source": [
        "#### Centrar e escalonar\n",
        "Para construir nosso modelo de regressão sem enviesamento precisamos centrar e escalonar os dados subtraindo a média e dividindo o resultado pelo desvio padrão com assunção que os dados tem distribuição gaussiana"
      ]
    },
    {
      "cell_type": "code",
      "metadata": {
        "id": "xMkcadHtRFeK"
      },
      "source": [
        "# Centrando e escalonando os dados (com média zero e variância unitária):\n",
        "scaled_x = x_simetrico.iloc[:,:]\n",
        "scaled_x = (scaled_x - scaled_x.mean())/scaled_x.std()"
      ],
      "execution_count": null,
      "outputs": []
    },
    {
      "cell_type": "markdown",
      "metadata": {
        "id": "aXLPCT28x1Mk"
      },
      "source": [
        "#### Divisão em treino e teste\n",
        "Para construir nosso modelo de regressão precisamos dividir os dados em duas partes. Uma para treinar o modelo e outra para testar o modelo com dados que ele não conhece. Para isso iremos separar 80% dos dados para treino e 20% dos dados para teste através da biblioteca train_test_split que faz essa separação automaticamente.\n",
        "\n",
        "**x_treino** é a parte usada para treinar o algoritmo\n",
        "\n",
        "**x_teste** é a parte usada para testar o algoritmo depois de treinado\n",
        "\n",
        "**y_treino** é a parte das respostas usadas no treino\n",
        "\n",
        "**y_teste** é a parte das respostas usadas para testar o algoritmo"
      ]
    },
    {
      "cell_type": "code",
      "metadata": {
        "id": "vSjhWwLf0Nvb"
      },
      "source": [
        "x_treino, x_teste, y_treino, y_teste = train_test_split(scaled_x, y, test_size=0.2)"
      ],
      "execution_count": null,
      "outputs": []
    },
    {
      "cell_type": "markdown",
      "metadata": {
        "id": "BNue5vtrvUK4"
      },
      "source": [
        "## Tarefa 0"
      ]
    },
    {
      "cell_type": "markdown",
      "metadata": {
        "id": "YDozbyfYvY3S"
      },
      "source": [
        "## Tarefa 1 - Regressão Linear Múltipla"
      ]
    },
    {
      "cell_type": "markdown",
      "metadata": {
        "id": "oWjfNHA4BW8T"
      },
      "source": [
        "### Treinando o Modelo"
      ]
    },
    {
      "cell_type": "code",
      "metadata": {
        "colab": {
          "base_uri": "https://localhost:8080/"
        },
        "id": "lIG3DIHZBWm1",
        "outputId": "49e589bd-e7d9-4c05-9517-be30bdc083d7"
      },
      "source": [
        "# Define um modelo de regressão\n",
        "modelo_ols = linear_model.LinearRegression()\n",
        "\n",
        "# Treina o modelo com os dados de treino\n",
        "modelo_ols.fit(x_treino, y_treino)"
      ],
      "execution_count": null,
      "outputs": [
        {
          "output_type": "execute_result",
          "data": {
            "text/plain": [
              "LinearRegression(copy_X=True, fit_intercept=True, n_jobs=None, normalize=False)"
            ]
          },
          "metadata": {
            "tags": []
          },
          "execution_count": 24
        }
      ]
    },
    {
      "cell_type": "markdown",
      "metadata": {
        "id": "PnvjHY0VBkzM"
      },
      "source": [
        "### Predição da Saída"
      ]
    },
    {
      "cell_type": "code",
      "metadata": {
        "id": "UFSH87ejBlTt"
      },
      "source": [
        "# y_predito contém a previsão das horas de treinamento (training_hours) do nosso modelo\n",
        "y_predito_ols = modelo_ols.predict(x_teste)"
      ],
      "execution_count": null,
      "outputs": []
    },
    {
      "cell_type": "markdown",
      "metadata": {
        "id": "1wCcNtmHC6e0"
      },
      "source": [
        "### Avaliação do modelo\n",
        "\n",
        "Para saber o quanto o nosso modelo está explicando os dados, ou o quanto o modelo pode prever corretamente, iremos utilizar a medida R2, que é o coeficiente de determinação e o cálculo dos resíduos através da função custo (RMSE). Para isso iremos utilizar os dados da resposta na etapa de teste e os dados de resposta previstos."
      ]
    },
    {
      "cell_type": "code",
      "metadata": {
        "colab": {
          "base_uri": "https://localhost:8080/"
        },
        "id": "HFwpVMLPDOvM",
        "outputId": "fe3068bc-e79e-46d6-e9a4-2845ced68620"
      },
      "source": [
        "# Calculo do RMSE e da pontuação R2 usando as funções do scikit-learn \n",
        "print('RMSE: ', np.sqrt(mean_squared_error(y_teste, y_predito_ols)))\n",
        "print('Medida R2: ', r2_score(y_teste, y_predito_ols))"
      ],
      "execution_count": null,
      "outputs": [
        {
          "output_type": "stream",
          "text": [
            "RMSE:  60.76506410067485\n",
            "Medida R2:  -0.0014585864568672502\n"
          ],
          "name": "stdout"
        }
      ]
    },
    {
      "cell_type": "markdown",
      "metadata": {
        "id": "rIar82s-Fqlz"
      },
      "source": [
        "Quanto mais próximo de 1 o valor de R2, mais o modelo é capaz de prever corretamente."
      ]
    },
    {
      "cell_type": "code",
      "metadata": {
        "id": "tX09PdYuNNik",
        "colab": {
          "base_uri": "https://localhost:8080/"
        },
        "outputId": "05254baa-ac79-4e3b-f5b2-218fe3a2bffa"
      },
      "source": [
        "# Validação cruzada considerando k = 10 (10 dobras ou 10 pastas)\n",
        "modelo_ols_cv_r2 = cross_val_score(modelo_ols, x_treino, y_treino, cv=10)\n",
        "modelo_ols_cv_rmse = cross_val_score(modelo_ols, x_treino, y_treino, scoring='neg_mean_squared_error',cv=10)\n",
        "modelo_ols_cv_rmse = np.sqrt(-modelo_ols_cv_rmse)\n",
        "print('RMSE para k = 10: ', modelo_ols_cv_rmse)\n",
        "print('Medida R2 para k = 10: ', modelo_ols_cv_r2)"
      ],
      "execution_count": null,
      "outputs": [
        {
          "output_type": "stream",
          "text": [
            "RMSE para k = 10:  [58.97413037 60.39159107 64.31619612 59.50012787 58.33282953 59.95203572\n",
            " 59.45734341 57.57732514 58.23170685 62.52553815]\n",
            "Medida R2 para k = 10:  [-0.00046815 -0.00269932 -0.00374002 -0.00141121 -0.00335118 -0.00340081\n",
            "  0.00170884 -0.0051633  -0.00103235 -0.00085868]\n"
          ],
          "name": "stdout"
        }
      ]
    },
    {
      "cell_type": "markdown",
      "metadata": {
        "id": "ukeJ2H7cvczx"
      },
      "source": [
        "## Tarefa 2 - Regressão Linear Múltipla com Penalização (L2 - Ridge)"
      ]
    },
    {
      "cell_type": "markdown",
      "metadata": {
        "id": "EOonq54pM8Vb"
      },
      "source": [
        "### Treinando o modelo"
      ]
    },
    {
      "cell_type": "code",
      "metadata": {
        "colab": {
          "base_uri": "https://localhost:8080/"
        },
        "id": "9vuOdgLkNChK",
        "outputId": "9bbb9e77-3acf-425f-ce37-dd75cfe0ee4c"
      },
      "source": [
        "# Define um modelo de regressão com default lambda = 1 \n",
        "modelo_ridge = linear_model.Ridge()\n",
        "\n",
        "# Treina o modelo com os dados de treino\n",
        "modelo_ridge.fit(x_treino, y_treino)"
      ],
      "execution_count": null,
      "outputs": [
        {
          "output_type": "execute_result",
          "data": {
            "text/plain": [
              "Ridge(alpha=1.0, copy_X=True, fit_intercept=True, max_iter=None,\n",
              "      normalize=False, random_state=None, solver='auto', tol=0.001)"
            ]
          },
          "metadata": {
            "tags": []
          },
          "execution_count": 28
        }
      ]
    },
    {
      "cell_type": "markdown",
      "metadata": {
        "id": "8ZD0Q1WwNe4k"
      },
      "source": [
        "### Predição da saída"
      ]
    },
    {
      "cell_type": "code",
      "metadata": {
        "id": "00Z3AZTWNsFJ"
      },
      "source": [
        "# y_predito contém a previsão das horas de treinamento (training_hours) do nosso modelo\n",
        "y_predito_ridge = modelo_ridge.predict(x_teste)"
      ],
      "execution_count": null,
      "outputs": []
    },
    {
      "cell_type": "markdown",
      "metadata": {
        "id": "ddKvku5CN17K"
      },
      "source": [
        "### Avaliação do modelo"
      ]
    },
    {
      "cell_type": "code",
      "metadata": {
        "colab": {
          "base_uri": "https://localhost:8080/"
        },
        "id": "-g_Q3rzNN4o6",
        "outputId": "860d5a00-50f7-4a2d-e609-5c09ee137547"
      },
      "source": [
        "# Calculo do RMSE e da pontuação R2 usando as funções do scikit-learn \n",
        "print('RMSE: ', np.sqrt(mean_squared_error(y_teste, y_predito_ridge)))\n",
        "print('Medida R2: ', r2_score(y_teste, y_predito_ridge))"
      ],
      "execution_count": null,
      "outputs": [
        {
          "output_type": "stream",
          "text": [
            "RMSE:  60.7650582230406\n",
            "Medida R2:  -0.001458392720315116\n"
          ],
          "name": "stdout"
        }
      ]
    },
    {
      "cell_type": "markdown",
      "metadata": {
        "id": "TVLGD3aePeby"
      },
      "source": [
        "### Busca pelo hiperparâmetro $\\lambda$"
      ]
    },
    {
      "cell_type": "code",
      "metadata": {
        "id": "tFnV-wHnPyJ7"
      },
      "source": [
        "# Intervalo do hiperparâmetro lambda [0, 70]:\n",
        "hiperparametro_lambda = np.linspace(1, 1000, 200)\n",
        "\n",
        "# Variáveis auxiliares para média das métricas da validação cruzada:\n",
        "modelo_ridge_cv_rmse = np.zeros(hiperparametro_lambda.size)\n",
        "modelo_ridge_cv_r2 = np.zeros(hiperparametro_lambda.size)\n",
        "\n",
        "for idx, l in enumerate(hiperparametro_lambda):\n",
        "    \n",
        "    # Define um modelo de regressão com lambda = l\n",
        "    modelo_ridge_cv = linear_model.Ridge(alpha=l)\n",
        "    \n",
        "    # Validação cruzada considerando k = 10 (10 dobras ou 10 pastas)\n",
        "    modelo_ridge_cv_r2[idx] = cross_val_score(modelo_ridge_cv, x_treino, y_treino, cv=10).mean()\n",
        "    modelo_cv_ridge_rmse = cross_val_score(modelo_ridge_cv, x_treino, y_treino, scoring='neg_mean_squared_error',cv=10).mean()\n",
        "    modelo_ridge_cv_rmse[idx] = np.sqrt(-modelo_cv_ridge_rmse)"
      ],
      "execution_count": null,
      "outputs": []
    },
    {
      "cell_type": "code",
      "metadata": {
        "colab": {
          "base_uri": "https://localhost:8080/",
          "height": 372
        },
        "id": "4WZroaSxWwN9",
        "outputId": "0cfb3c9c-527a-4f0b-f0c9-37de05688777"
      },
      "source": [
        "# Representação da validação cruzada e ponto mínimo:\n",
        "fig, ax = plt.subplots(1, 2, figsize=(12,5))\n",
        "plt.suptitle('Validação cruzada (k=10) - Regressão Ridge')\n",
        "ax[0].plot(hiperparametro_lambda, modelo_ridge_cv_rmse,'C0-') # rmse\n",
        "ax[0].set_xlabel('$\\lambda$')\n",
        "ax[0].set_ylabel('RMSE')\n",
        "ax[0].plot(hiperparametro_lambda[np.argmin(modelo_ridge_cv_rmse)], np.min(modelo_ridge_cv_rmse), 'C3o', label=f'minimum RMSE -> lambda = {hiperparametro_lambda[np.argmin(modelo_ridge_cv_rmse)]:.4}') # minimum rmse point\n",
        "ax[0].legend()\n",
        "ax[1].plot(hiperparametro_lambda, modelo_ridge_cv_r2,'C3-') # r2\n",
        "ax[1].set_xlabel('$\\lambda$')\n",
        "ax[1].set_ylabel('R2')\n",
        "plt.savefig('CV_ridgelambda.pdf')"
      ],
      "execution_count": null,
      "outputs": [
        {
          "output_type": "display_data",
          "data": {
            "image/png": "[encoded data removed]",
            "text/plain": [
              "<Figure size 864x360 with 2 Axes>"
            ]
          },
          "metadata": {
            "tags": [],
            "needs_background": "light"
          }
        }
      ]
    },
    {
      "cell_type": "markdown",
      "metadata": {
        "id": "xYgkMRTTveIx"
      },
      "source": [
        "## Tarefa 3 - Regressão Linear com Redução de Dimensionalidade (PLS e PCR)"
      ]
    },
    {
      "cell_type": "markdown",
      "metadata": {
        "id": "Cqb65beDp94J"
      },
      "source": [
        "### Curva representativa da informação por número de componente principais (PCA)"
      ]
    },
    {
      "cell_type": "code",
      "metadata": {
        "colab": {
          "base_uri": "https://localhost:8080/",
          "height": 296
        },
        "id": "_KLqa8DJo30Z",
        "outputId": "4e457d81-156a-4e1d-bfc6-073dadb60e7e"
      },
      "source": [
        "# Análise do componente principal (PCA) nos dados de treino:\n",
        "pca = PCA(n_components=10) \n",
        "pca.fit(x_treino)\n",
        "plt.figure()\n",
        "plt.title('Análise do Componente Principal (PCA) nos dados de treino')\n",
        "plt.xlabel('Número de componentes principais')\n",
        "plt.ylabel('Variância cumulativa')\n",
        "plt.plot(np.arange(10)+1, np.cumsum(pca.explained_variance_ratio_), 'o-')\n",
        "plt.grid()\n",
        "plt.savefig('pca.pdf')"
      ],
      "execution_count": null,
      "outputs": [
        {
          "output_type": "display_data",
          "data": {
            "image/png": "[encoded data removed]",
            "text/plain": [
              "<Figure size 432x288 with 1 Axes>"
            ]
          },
          "metadata": {
            "tags": [],
            "needs_background": "light"
          }
        }
      ]
    },
    {
      "cell_type": "markdown",
      "metadata": {
        "id": "Y2vypBesHDa9"
      },
      "source": [
        "### PCR - Treinando o modelo"
      ]
    },
    {
      "cell_type": "code",
      "metadata": {
        "colab": {
          "base_uri": "https://localhost:8080/"
        },
        "id": "iWK5vAalIOQi",
        "outputId": "b2047eaf-7718-46fa-92a8-55b8bd75bb20"
      },
      "source": [
        "# Regressão utilizando 6 componentes principais:\n",
        "pca = PCA(n_components=6) # Componentes da Análise dos Componentes Principais (PCA)\n",
        "\n",
        "# Dimininuição de dimensionalidade do conjunto original de variáveis independentes para treino:\n",
        "pca_x_treino = pca.fit_transform(x_treino)\n",
        "\n",
        "# Define o modelo de regressão linear:\n",
        "modelo_pcr = linear_model.LinearRegression()\n",
        "\n",
        "# Treina o modelo com os dados de treino na nova dimensão:\n",
        "modelo_pcr.fit(pca_x_treino, y_treino)"
      ],
      "execution_count": null,
      "outputs": [
        {
          "output_type": "execute_result",
          "data": {
            "text/plain": [
              "LinearRegression(copy_X=True, fit_intercept=True, n_jobs=None, normalize=False)"
            ]
          },
          "metadata": {
            "tags": []
          },
          "execution_count": 31
        }
      ]
    },
    {
      "cell_type": "markdown",
      "metadata": {
        "id": "rhqyEuBKM0-Z"
      },
      "source": [
        "### PCR - Predição da saída"
      ]
    },
    {
      "cell_type": "code",
      "metadata": {
        "id": "1YsE-_H-MoMK"
      },
      "source": [
        "# y_predito contém a previsão das horas de treinamento (training_hours) do nosso modelo\n",
        "y_predito_pcr = modelo_pcr.predict(pca.fit_transform(x_teste))"
      ],
      "execution_count": null,
      "outputs": []
    },
    {
      "cell_type": "markdown",
      "metadata": {
        "id": "sZCGhVTrNwIq"
      },
      "source": [
        "### PCR - Avaliação do modelo"
      ]
    },
    {
      "cell_type": "code",
      "metadata": {
        "colab": {
          "base_uri": "https://localhost:8080/"
        },
        "id": "TpsOPZcfNu_K",
        "outputId": "d65967e4-8592-41af-916a-5ec0c6f34f76"
      },
      "source": [
        "# Calculo do RMSE e da pontuação R2 usando as funções do scikit-learn \n",
        "print('RMSE: ', np.sqrt(mean_squared_error(y_teste, y_predito_pcr)))\n",
        "print('Medida R2: ', r2_score(y_teste, y_predito_pcr))"
      ],
      "execution_count": null,
      "outputs": [
        {
          "output_type": "stream",
          "text": [
            "RMSE:  60.11026096979866\n",
            "Medida R2:  -0.000164505615326771\n"
          ],
          "name": "stdout"
        }
      ]
    },
    {
      "cell_type": "markdown",
      "metadata": {
        "id": "d4eiKXOaIKMI"
      },
      "source": [
        "### PLS - Treinamento do modelo"
      ]
    },
    {
      "cell_type": "code",
      "metadata": {
        "colab": {
          "base_uri": "https://localhost:8080/"
        },
        "id": "klvNPOQFPHKU",
        "outputId": "1a03ca0c-f34e-4aaa-8664-6943c39625d4"
      },
      "source": [
        "# Define o modelo de regressão por Mínimos Quadrados Parciais com 6 componentes principais (Partial least squares regression - PLS regression):\n",
        "modelo_pls = PLSRegression(n_components=6)\n",
        "\n",
        "# Treina o modelo com os dados de treino na nova dimensão:\n",
        "modelo_pls.fit(x_treino, y_treino)"
      ],
      "execution_count": null,
      "outputs": [
        {
          "output_type": "execute_result",
          "data": {
            "text/plain": [
              "PLSRegression(copy=True, max_iter=500, n_components=6, scale=True, tol=1e-06)"
            ]
          },
          "metadata": {
            "tags": []
          },
          "execution_count": 34
        }
      ]
    },
    {
      "cell_type": "markdown",
      "metadata": {
        "id": "7zKcIpwpPFmJ"
      },
      "source": [
        "### PLS - Predição da saída"
      ]
    },
    {
      "cell_type": "code",
      "metadata": {
        "id": "CUp2i37vIIPS"
      },
      "source": [
        "# y_predito contém a previsão das horas de treinamento (training_hours) do nosso modelo\n",
        "y_predito_pls = modelo_pls.predict(x_teste)"
      ],
      "execution_count": null,
      "outputs": []
    },
    {
      "cell_type": "markdown",
      "metadata": {
        "id": "f21aud1pPQqi"
      },
      "source": [
        "### PLS - Avaliação do modelo"
      ]
    },
    {
      "cell_type": "code",
      "metadata": {
        "colab": {
          "base_uri": "https://localhost:8080/"
        },
        "id": "diYGv5_TPSpx",
        "outputId": "6ab43ce9-9e07-4164-ac2c-c7055d734cd7"
      },
      "source": [
        "# Calculo do RMSE e da pontuação R2 usando as funções do scikit-learn \n",
        "print('RMSE: ', np.sqrt(mean_squared_error(y_teste, y_predito_pls)))\n",
        "print('Medida R2: ', r2_score(y_teste, y_predito_pls))"
      ],
      "execution_count": null,
      "outputs": [
        {
          "output_type": "stream",
          "text": [
            "RMSE:  60.121740636357345\n",
            "Medida R2:  -0.0005465585692980834\n"
          ],
          "name": "stdout"
        }
      ]
    },
    {
      "cell_type": "markdown",
      "metadata": {
        "id": "g9WGS4n_vfaJ"
      },
      "source": [
        "## Tarefa Bonus - Regressão a partir de Redes Neurais"
      ]
    }
  ]
}